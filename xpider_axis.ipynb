{
 "cells": [
  {
   "cell_type": "code",
   "execution_count": 5,
   "metadata": {
    "collapsed": false
   },
   "outputs": [],
   "source": [
    "# %pylab\n",
    "import numpy as np\n",
    "from collections import deque\n",
    "import matplotlib.pyplot as plt\n",
    "from sklearn.metrics.pairwise import euclidean_distances\n",
    "from scipy.sparse import csr_matrix\n",
    "import configparser"
   ]
  },
  {
   "cell_type": "code",
   "execution_count": 8,
   "metadata": {
    "collapsed": false
   },
   "outputs": [],
   "source": [
    "maxDistance = 1.2"
   ]
  },
  {
   "cell_type": "code",
   "execution_count": 10,
   "metadata": {
    "collapsed": false
   },
   "outputs": [],
   "source": [
    "def NNeighbor(mat):\n",
    "    idx = list()\n",
    "    distMatrix = euclidean_distances(mat)\n",
    "    distMatrix = csr_matrix(distMatrix)\n",
    "#     print(distMatrix)\n",
    "    for i in range(distMatrix.shape[0]):\n",
    "        row = distMatrix.getrow(i).toarray()[0].ravel()\n",
    "        top_indices = row.argsort()[1]\n",
    "        # print(top_indices)\n",
    "        top_values = row[row.argsort()[1]]\n",
    "#         print(row[row.argsort()])\n",
    "        if top_values > maxDistance:\n",
    "            idx.append(-1)\n",
    "#         print top_indices\n",
    "#         print(top_values)\n",
    "        else:\n",
    "            idx.append(top_indices)\n",
    "    return idx\n",
    "\n",
    "def trace( *args ):\n",
    "    #pass \n",
    "    print( \"\".join(map(str,args)) )"
   ]
  },
  {
   "cell_type": "code",
   "execution_count": 14,
   "metadata": {
    "collapsed": false,
    "scrolled": true
   },
   "outputs": [],
   "source": [
    "# print(NNeighbor(np.array(unlabeled_markers)[:,0:2]))"
   ]
  },
  {
   "cell_type": "code",
   "execution_count": 13,
   "metadata": {
    "collapsed": false
   },
   "outputs": [
    {
     "name": "stdout",
     "output_type": "stream",
     "text": [
      "raw markers:\n",
      "[[ 1.   1.   0.1]\n",
      " [-2.  -2.   0.2]\n",
      " [ 7.   0.   0.1]\n",
      " [ 1.   2.   0.3]\n",
      " [-3.  -2.   0.4]\n",
      " [ 8.   1.   0.2]]\n",
      "neighbor markers index:\n",
      "[3, 4, -1, 0, 1, -1]\n",
      "markers set:\n",
      "[[0, 3], [1, 4]]\n",
      "back markers:\n",
      "[[ 1.  1.]\n",
      " [-2. -2.]]\n",
      "font markers:\n",
      "[[ 1.  2.]\n",
      " [-3. -2.]]\n",
      "robot location:\n",
      "[[ 1.   1.5]\n",
      " [-2.5 -2. ]]\n",
      "robot theta:\n",
      "[ 1.57079633  3.14159265]\n",
      "robot_data:\n",
      "[[ 1.          1.5         1.57079633]\n",
      " [-2.5        -2.          3.14159265]]\n"
     ]
    }
   ],
   "source": [
    "unlabeled_markers = ([[1, 1, 0.1], [-2, -2, 0.2], [7, 0., 0.1], \n",
    "                     [1, 2, 0.3],[-3, -2, 0.4],[8, 1, 0.2]])\n",
    "\n",
    "# from opti-track to map coordinate\n",
    "# opti-track x z\n",
    "#        map y x\n",
    "n_unlabled_markers = np.array(unlabeled_markers)\n",
    "# n_markers = np.vstack((n_unlabled_markers[:,2], n_unlabled_markers[:,0]))\n",
    "# n_markers = n_markers.T\n",
    "\n",
    "trace(\"raw markers:\")\n",
    "trace(n_unlabled_markers[:,0:3])\n",
    "\n",
    "markers_index = NNeighbor(n_unlabled_markers[:,0:2])\n",
    "trace(\"neighbor markers index:\")\n",
    "trace(markers_index)\n",
    "\n",
    "markers_set = []\n",
    "\n",
    "for i in range(len(markers_index)):\n",
    "    if(markers_index[i] > i):\n",
    "        markers_set.append([i, markers_index[i]])\n",
    "\n",
    "\n",
    "n_markers_set = np.array(markers_set)\n",
    "trace(\"markers set:\")\n",
    "trace(markers_set)\n",
    "\n",
    "front_markers_set = list()\n",
    "back_markers_set = list()\n",
    "for i, j in markers_set:\n",
    "    if n_unlabled_markers[i][2] > n_unlabled_markers[j][2]:\n",
    "        front_markers_set.append(i)\n",
    "        back_markers_set.append(j)\n",
    "    else:\n",
    "        front_markers_set.append(j)\n",
    "        back_markers_set.append(i)\n",
    "# print(front_markers)\n",
    "\n",
    "back_markers = (n_unlabled_markers[back_markers_set])[:,0:2]\n",
    "front_markers = (n_unlabled_markers[front_markers_set])[:,0:2]\n",
    "trace(\"back markers:\")\n",
    "trace(back_markers)\n",
    "trace(\"font markers:\")\n",
    "trace(front_markers)\n",
    "\n",
    "robot_location = (back_markers+front_markers)/2\n",
    "trace(\"robot location:\")\n",
    "trace(robot_location)\n",
    "\n",
    "delta_points = front_markers - back_markers\n",
    "robot_theta = (np.arctan2(delta_points[:,1], delta_points[:,0])+np.pi*2) % (np.pi*2)\n",
    "trace(\"robot theta:\")\n",
    "trace(robot_theta)\n",
    "\n",
    "print(\"robot_data:\")\n",
    "print(np.hstack((robot_location, robot_theta.reshape(robot_theta.shape[0],1))))"
   ]
  },
  {
   "cell_type": "code",
   "execution_count": null,
   "metadata": {
    "collapsed": true
   },
   "outputs": [],
   "source": []
  },
  {
   "cell_type": "code",
   "execution_count": null,
   "metadata": {
    "collapsed": true
   },
   "outputs": [],
   "source": []
  },
  {
   "cell_type": "code",
   "execution_count": null,
   "metadata": {
    "collapsed": true
   },
   "outputs": [],
   "source": []
  },
  {
   "cell_type": "code",
   "execution_count": null,
   "metadata": {
    "collapsed": true
   },
   "outputs": [],
   "source": []
  },
  {
   "cell_type": "code",
   "execution_count": null,
   "metadata": {
    "collapsed": true
   },
   "outputs": [],
   "source": []
  }
 ],
 "metadata": {
  "kernelspec": {
   "display_name": "Python 2",
   "language": "python",
   "name": "python2"
  },
  "language_info": {
   "codemirror_mode": {
    "name": "ipython",
    "version": 2
   },
   "file_extension": ".py",
   "mimetype": "text/x-python",
   "name": "python",
   "nbconvert_exporter": "python",
   "pygments_lexer": "ipython2",
   "version": "2.7.10"
  }
 },
 "nbformat": 4,
 "nbformat_minor": 2
}
